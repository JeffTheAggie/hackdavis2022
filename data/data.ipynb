{
 "cells": [
  {
   "cell_type": "code",
   "execution_count": 4,
   "metadata": {},
   "outputs": [],
   "source": [
    "import pandas as pd\n",
    "import numpy as np\n",
    "from sklearn.model_selection import train_test_split\n",
    "from sklearn.preprocessing import OneHotEncoder, StandardScaler \n",
    "from sklearn import metrics\n",
    "from sklearn.neighbors import KNeighborsClassifier \n",
    "import pickle"
   ]
  },
  {
   "cell_type": "code",
   "execution_count": 5,
   "metadata": {},
   "outputs": [],
   "source": [
    "data = pd.read_csv(\"LLCP2020.csv\")"
   ]
  },
  {
   "cell_type": "code",
   "execution_count": 6,
   "metadata": {},
   "outputs": [
    {
     "data": {
      "text/plain": [
       "(401958, 280)"
      ]
     },
     "execution_count": 6,
     "metadata": {},
     "output_type": "execute_result"
    }
   ],
   "source": [
    "df = data.copy()\n",
    "df.shape"
   ]
  },
  {
   "cell_type": "code",
   "execution_count": 7,
   "metadata": {},
   "outputs": [
    {
     "data": {
      "text/plain": [
       "(329965, 15)"
      ]
     },
     "execution_count": 7,
     "metadata": {},
     "output_type": "execute_result"
    }
   ],
   "source": [
    "variables = ['GENHLTH', 'PHYSHLTH', 'MENTHLTH', 'EXERANY2', 'CVDINFR4', 'CVDCRHD4', 'ASTHMA3', 'HAVARTH4', '_MRACE1', 'SEXVAR', '_AGE_G', 'HEIGHT3', 'WEIGHT2', '_MICHD', 'SMOKE100']\n",
    "df = df[variables]\n",
    "df = df[(df['_MICHD'] == 1) | (df['_MICHD'] == 2)]\n",
    "df['_MICHD'] = df['_MICHD'].replace({\n",
    "    2: 0\n",
    "    })\n",
    "df['GENHLTH'] = df['GENHLTH'].replace({\n",
    "    1: 'Excellent',\n",
    "    2: 'Very good',\n",
    "    3: 'Good',\n",
    "    4: 'Fair', \n",
    "    5: 'Poor', \n",
    "    7: np.NaN, \n",
    "    9: np.NaN})\n",
    "df[['PHYSHLTH', 'MENTHLTH']] = df[['PHYSHLTH', 'MENTHLTH']].replace({\n",
    "    88: 0,\n",
    "    77: np.NaN,\n",
    "    99: np.NaN\n",
    "})\n",
    "df[['EXERANY2', 'CVDINFR4', 'CVDCRHD4', 'ASTHMA3', 'HAVARTH4', 'SMOKE100']] = df[['EXERANY2', 'CVDINFR4', 'CVDCRHD4', 'ASTHMA3', 'HAVARTH4', 'SMOKE100']].replace({\n",
    "    1: 'Yes',\n",
    "    2: 'No',\n",
    "    7: np.NaN,\n",
    "    9: np.NaN\n",
    "})\n",
    "df['_MRACE1'] = df['_MRACE1'].replace({\n",
    "    1: 'White',\n",
    "    2: 'Black',\n",
    "    3: 'American Indian or Alaskan Native only',\n",
    "    4: 'Asian',\n",
    "    5: 'Native Hawaiian or other Pacific Islander',\n",
    "    6: 'Other',\n",
    "    7: 'Multiracial',\n",
    "    8: 'Hispanic',\n",
    "    9: np.NaN,\n",
    "    77: np.NaN,\n",
    "    99: np.NaN\n",
    "})\n",
    "df['SEXVAR'] = df['SEXVAR'].replace({\n",
    "    1: 'Male',\n",
    "    2: 'Female'\n",
    "})\n",
    "df['_AGE_G'] = df['_AGE_G'].replace({\n",
    "    1: 'Age 18 to 24',\n",
    "    2: 'Age 25 to 34',\n",
    "    3: 'Age 35 to 44',\n",
    "    4: 'Age 45 to 54',\n",
    "    5: 'Age 55 to 64',\n",
    "    6: 'Age 65 or older'\n",
    "})\n",
    "df[['HEIGHT3', 'WEIGHT2']] = df[['HEIGHT3', 'WEIGHT2']].replace({\n",
    "    7777: np.NaN,\n",
    "    9999: np.NaN\n",
    "})\n",
    "df = df.dropna()\n",
    "df.shape"
   ]
  },
  {
   "cell_type": "code",
   "execution_count": 9,
   "metadata": {},
   "outputs": [],
   "source": [
    "num_vars = ['PHYSHLTH', 'MENTHLTH', 'HEIGHT3', 'WEIGHT2']\n",
    "df[num_cols] = StandardScaler().fit_transform(df[num_vars])\n",
    "cat_vars = df[['GENHLTH', 'EXERANY2', 'CVDINFR4', 'CVDCRHD4', 'ASTHMA3', 'HAVARTH4', 'SMOKE100', '_MRACE1', 'SEXVAR', '_AGE_G']]\n",
    "encoded_cat_vars = pd.DataFrame(OneHotEncoder().fit_transform(cat_vars).toarray())\n",
    "df = pd.concat([df, encoded_cat_vars], axis = 1)\n",
    "df = df.drop(columns = ['GENHLTH', 'EXERANY2', 'CVDINFR4', 'CVDCRHD4', 'ASTHMA3', 'HAVARTH4', 'SMOKE100', '_MRACE1', 'SEXVAR', '_AGE_G'], axis = 1)\n",
    "df = df.dropna()\n",
    "y = df['_MICHD']\n",
    "x = df.drop(['_MICHD'], axis=1)"
   ]
  },
  {
   "cell_type": "code",
   "execution_count": 11,
   "metadata": {},
   "outputs": [],
   "source": [
    "def evaluate_model(model, x_test, y_test):\n",
    "    y_pred = model.predict(x_test)\n",
    "    acc = metrics.accuracy_score(y_test, y_pred)\n",
    "    prec = metrics.precision_score(y_test, y_pred)\n",
    "    rec = metrics.recall_score(y_test, y_pred)\n",
    "    f1 = metrics.f1_score(y_test, y_pred)\n",
    "    y_pred_proba = model.predict_proba(x_test)[::,1]\n",
    "    fpr, tpr, _ = metrics.roc_curve(y_test, y_pred_proba)\n",
    "    auc = metrics.roc_auc_score(y_test, y_pred_proba)\n",
    "    cm = metrics.confusion_matrix(y_test, y_pred)\n",
    "\n",
    "    return {'acc': acc, 'prec': prec, 'rec': rec, 'f1': f1, 'kappa': kappa, \n",
    "            'fpr': fpr, 'tpr': tpr, 'auc': auc, 'cm': cm}"
   ]
  },
  {
   "cell_type": "code",
   "execution_count": 12,
   "metadata": {},
   "outputs": [
    {
     "name": "stderr",
     "output_type": "stream",
     "text": [
      "C:\\Users\\rtruo\\AppData\\Local\\Programs\\Python\\Python310\\lib\\site-packages\\sklearn\\utils\\validation.py:1688: FutureWarning: Feature names only support names that are all strings. Got feature names with dtypes: ['int', 'str']. An error will be raised in 1.2.\n",
      "  warnings.warn(\n",
      "C:\\Users\\rtruo\\AppData\\Local\\Programs\\Python\\Python310\\lib\\site-packages\\sklearn\\utils\\validation.py:1688: FutureWarning: Feature names only support names that are all strings. Got feature names with dtypes: ['int', 'str']. An error will be raised in 1.2.\n",
      "  warnings.warn(\n",
      "C:\\Users\\rtruo\\AppData\\Local\\Programs\\Python\\Python310\\lib\\site-packages\\sklearn\\utils\\validation.py:1688: FutureWarning: Feature names only support names that are all strings. Got feature names with dtypes: ['int', 'str']. An error will be raised in 1.2.\n",
      "  warnings.warn(\n"
     ]
    },
    {
     "name": "stdout",
     "output_type": "stream",
     "text": [
      "Accuracy: 0.9163633135043949\n",
      "Precision: 0.25\n",
      "Recall: 0.006270154066642781\n",
      "F1 Score: 0.01223348479552604\n",
      "Cohens Kappa Score: 0.008224744291336905\n",
      "Area Under Curve: 0.5687005580901198\n",
      "Confusion Matrix:\n",
      " [[61891   105]\n",
      " [ 5547    35]]\n"
     ]
    }
   ],
   "source": [
    "x_train, x_test, y_train, y_test = train_test_split(x, y, random_state=101)\n",
    "knn = KNeighborsClassifier(n_neighbors = 8)\n",
    "knn.fit(x_train, y_train)\n",
    "knn_eval = evaluate_model(knn, x_test, y_test)\n",
    "\n",
    "print('Accuracy:', knn_eval['acc'])\n",
    "print('Precision:', knn_eval['prec'])\n",
    "print('Recall:', knn_eval['rec'])\n",
    "print('F1 Score:', knn_eval['f1'])\n",
    "print('Area Under Curve:', knn_eval['auc'])\n",
    "print('Confusion Matrix:\\n', knn_eval['cm'])"
   ]
  },
  {
   "cell_type": "code",
   "execution_count": null,
   "metadata": {},
   "outputs": [],
   "source": [
    "with open('model.pkl', \"wb\") as pickle_file:\n",
    "    pickle.dump(knn, pickle_file)"
   ]
  }
 ],
 "metadata": {
  "interpreter": {
   "hash": "ea7c596da28a13baf3d2a378eb37ba72985c381a5bad1b79285092b827c7c2f6"
  },
  "kernelspec": {
   "display_name": "Python 3.10.4 64-bit",
   "language": "python",
   "name": "python3"
  },
  "language_info": {
   "codemirror_mode": {
    "name": "ipython",
    "version": 3
   },
   "file_extension": ".py",
   "mimetype": "text/x-python",
   "name": "python",
   "nbconvert_exporter": "python",
   "pygments_lexer": "ipython3",
   "version": "3.10.4"
  },
  "orig_nbformat": 4
 },
 "nbformat": 4,
 "nbformat_minor": 2
}
